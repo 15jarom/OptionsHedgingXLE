{
 "cells": [
  {
   "cell_type": "code",
   "execution_count": 2,
   "id": "dc3aeef1-b7db-4565-b36e-2f1b76eb5de8",
   "metadata": {},
   "outputs": [],
   "source": [
    "# Initial imports\n",
    "import os\n",
    "import pandas as pd\n",
    "from datetime import datetime\n",
    "from dotenv import load_dotenv\n",
    "import alpaca_trade_api as tradeapi\n",
    "\n",
    "import warnings\n",
    "warnings.filterwarnings('ignore')\n",
    "\n",
    "%matplotlib inline"
   ]
  },
  {
   "cell_type": "code",
   "execution_count": 3,
   "id": "65b44040-5477-4bf1-b81b-6409301dcdf1",
   "metadata": {
    "tags": []
   },
   "outputs": [
    {
     "data": {
      "text/plain": [
       "True"
      ]
     },
     "execution_count": 3,
     "metadata": {},
     "output_type": "execute_result"
    }
   ],
   "source": [
    "load_dotenv(\"alpaca.env\")"
   ]
  },
  {
   "cell_type": "code",
   "execution_count": 4,
   "id": "abe01f8b-b316-43f2-b3bf-4effb94913c8",
   "metadata": {
    "tags": []
   },
   "outputs": [
    {
     "name": "stdout",
     "output_type": "stream",
     "text": [
      "Alpaca key type: <class 'str'>\n",
      "Alpaca key type: <class 'str'>\n"
     ]
    }
   ],
   "source": [
    "# Set names for an alpaca api key and secret and get the keys from environment file\n",
    "alpaca_key = os.getenv('alpaca_key')\n",
    "alpaca_secret = os.getenv('alpaca_secret')\n",
    "base_url = 'https://paper-api.alpaca.markets' \n",
    "# Print and verify that keys were loaded correctly \n",
    "print(f'Alpaca key type: {type(alpaca_key)}')\n",
    "print(f'Alpaca key type: {type(alpaca_secret)}')"
   ]
  },
  {
   "cell_type": "code",
   "execution_count": 5,
   "id": "61cba1fc-0025-421f-ab93-90658bc97a39",
   "metadata": {
    "tags": []
   },
   "outputs": [],
   "source": [
    "# Create the Alpaca API object\n",
    "alpaca = tradeapi.REST(alpaca_key, \n",
    "                       alpaca_secret, \n",
    "                       api_version='2')"
   ]
  },
  {
   "cell_type": "code",
   "execution_count": 6,
   "id": "67bcc355-b73b-4861-9900-983437ebdb18",
   "metadata": {
    "tags": []
   },
   "outputs": [],
   "source": [
    "# Format current date as ISO format\n",
    "start_date = pd.Timestamp('2023-04-08', tz='America/New_York').isoformat()\n",
    "end_date = pd.Timestamp('2024-04-08', tz='America/New_York').isoformat()"
   ]
  },
  {
   "cell_type": "code",
   "execution_count": 7,
   "id": "d5328cba-5f94-4b94-9cf4-f3917b8d5b95",
   "metadata": {
    "tags": []
   },
   "outputs": [
    {
     "data": {
      "text/html": [
       "<div>\n",
       "<style scoped>\n",
       "    .dataframe tbody tr th:only-of-type {\n",
       "        vertical-align: middle;\n",
       "    }\n",
       "\n",
       "    .dataframe tbody tr th {\n",
       "        vertical-align: top;\n",
       "    }\n",
       "\n",
       "    .dataframe thead th {\n",
       "        text-align: right;\n",
       "    }\n",
       "</style>\n",
       "<table border=\"1\" class=\"dataframe\">\n",
       "  <thead>\n",
       "    <tr style=\"text-align: right;\">\n",
       "      <th></th>\n",
       "      <th>close</th>\n",
       "      <th>high</th>\n",
       "      <th>low</th>\n",
       "      <th>trade_count</th>\n",
       "      <th>open</th>\n",
       "      <th>volume</th>\n",
       "      <th>vwap</th>\n",
       "      <th>symbol</th>\n",
       "    </tr>\n",
       "    <tr>\n",
       "      <th>timestamp</th>\n",
       "      <th></th>\n",
       "      <th></th>\n",
       "      <th></th>\n",
       "      <th></th>\n",
       "      <th></th>\n",
       "      <th></th>\n",
       "      <th></th>\n",
       "      <th></th>\n",
       "    </tr>\n",
       "  </thead>\n",
       "  <tbody>\n",
       "    <tr>\n",
       "      <th>2023-04-10 04:00:00+00:00</th>\n",
       "      <td>85.66</td>\n",
       "      <td>86.6400</td>\n",
       "      <td>85.3000</td>\n",
       "      <td>121947</td>\n",
       "      <td>85.30</td>\n",
       "      <td>13488647</td>\n",
       "      <td>85.879664</td>\n",
       "      <td>XLE</td>\n",
       "    </tr>\n",
       "    <tr>\n",
       "      <th>2023-04-11 04:00:00+00:00</th>\n",
       "      <td>86.47</td>\n",
       "      <td>87.0100</td>\n",
       "      <td>85.6499</td>\n",
       "      <td>103300</td>\n",
       "      <td>86.14</td>\n",
       "      <td>12787580</td>\n",
       "      <td>86.445296</td>\n",
       "      <td>XLE</td>\n",
       "    </tr>\n",
       "    <tr>\n",
       "      <th>2023-04-12 04:00:00+00:00</th>\n",
       "      <td>86.53</td>\n",
       "      <td>87.2500</td>\n",
       "      <td>86.2700</td>\n",
       "      <td>130568</td>\n",
       "      <td>87.07</td>\n",
       "      <td>16667178</td>\n",
       "      <td>86.753472</td>\n",
       "      <td>XLE</td>\n",
       "    </tr>\n",
       "    <tr>\n",
       "      <th>2023-04-13 04:00:00+00:00</th>\n",
       "      <td>87.07</td>\n",
       "      <td>87.2900</td>\n",
       "      <td>86.1900</td>\n",
       "      <td>132995</td>\n",
       "      <td>86.40</td>\n",
       "      <td>15692262</td>\n",
       "      <td>86.870389</td>\n",
       "      <td>XLE</td>\n",
       "    </tr>\n",
       "    <tr>\n",
       "      <th>2023-04-14 04:00:00+00:00</th>\n",
       "      <td>87.23</td>\n",
       "      <td>87.7388</td>\n",
       "      <td>86.7200</td>\n",
       "      <td>110707</td>\n",
       "      <td>87.19</td>\n",
       "      <td>11775619</td>\n",
       "      <td>87.139064</td>\n",
       "      <td>XLE</td>\n",
       "    </tr>\n",
       "    <tr>\n",
       "      <th>...</th>\n",
       "      <td>...</td>\n",
       "      <td>...</td>\n",
       "      <td>...</td>\n",
       "      <td>...</td>\n",
       "      <td>...</td>\n",
       "      <td>...</td>\n",
       "      <td>...</td>\n",
       "      <td>...</td>\n",
       "    </tr>\n",
       "    <tr>\n",
       "      <th>2024-04-02 04:00:00+00:00</th>\n",
       "      <td>96.44</td>\n",
       "      <td>96.5400</td>\n",
       "      <td>95.1000</td>\n",
       "      <td>169185</td>\n",
       "      <td>95.52</td>\n",
       "      <td>19335599</td>\n",
       "      <td>95.926710</td>\n",
       "      <td>XLE</td>\n",
       "    </tr>\n",
       "    <tr>\n",
       "      <th>2024-04-03 04:00:00+00:00</th>\n",
       "      <td>97.10</td>\n",
       "      <td>97.2302</td>\n",
       "      <td>96.4849</td>\n",
       "      <td>134716</td>\n",
       "      <td>96.80</td>\n",
       "      <td>14574431</td>\n",
       "      <td>96.967659</td>\n",
       "      <td>XLE</td>\n",
       "    </tr>\n",
       "    <tr>\n",
       "      <th>2024-04-04 04:00:00+00:00</th>\n",
       "      <td>97.04</td>\n",
       "      <td>97.5950</td>\n",
       "      <td>96.6600</td>\n",
       "      <td>153821</td>\n",
       "      <td>97.25</td>\n",
       "      <td>18470645</td>\n",
       "      <td>97.180223</td>\n",
       "      <td>XLE</td>\n",
       "    </tr>\n",
       "    <tr>\n",
       "      <th>2024-04-05 04:00:00+00:00</th>\n",
       "      <td>98.08</td>\n",
       "      <td>98.4667</td>\n",
       "      <td>96.8500</td>\n",
       "      <td>132988</td>\n",
       "      <td>97.44</td>\n",
       "      <td>15597269</td>\n",
       "      <td>97.850093</td>\n",
       "      <td>XLE</td>\n",
       "    </tr>\n",
       "    <tr>\n",
       "      <th>2024-04-08 04:00:00+00:00</th>\n",
       "      <td>97.46</td>\n",
       "      <td>98.4100</td>\n",
       "      <td>97.2850</td>\n",
       "      <td>125942</td>\n",
       "      <td>98.13</td>\n",
       "      <td>17017279</td>\n",
       "      <td>97.779995</td>\n",
       "      <td>XLE</td>\n",
       "    </tr>\n",
       "  </tbody>\n",
       "</table>\n",
       "<p>251 rows × 8 columns</p>\n",
       "</div>"
      ],
      "text/plain": [
       "                           close     high      low  trade_count   open  \\\n",
       "timestamp                                                                \n",
       "2023-04-10 04:00:00+00:00  85.66  86.6400  85.3000       121947  85.30   \n",
       "2023-04-11 04:00:00+00:00  86.47  87.0100  85.6499       103300  86.14   \n",
       "2023-04-12 04:00:00+00:00  86.53  87.2500  86.2700       130568  87.07   \n",
       "2023-04-13 04:00:00+00:00  87.07  87.2900  86.1900       132995  86.40   \n",
       "2023-04-14 04:00:00+00:00  87.23  87.7388  86.7200       110707  87.19   \n",
       "...                          ...      ...      ...          ...    ...   \n",
       "2024-04-02 04:00:00+00:00  96.44  96.5400  95.1000       169185  95.52   \n",
       "2024-04-03 04:00:00+00:00  97.10  97.2302  96.4849       134716  96.80   \n",
       "2024-04-04 04:00:00+00:00  97.04  97.5950  96.6600       153821  97.25   \n",
       "2024-04-05 04:00:00+00:00  98.08  98.4667  96.8500       132988  97.44   \n",
       "2024-04-08 04:00:00+00:00  97.46  98.4100  97.2850       125942  98.13   \n",
       "\n",
       "                             volume       vwap symbol  \n",
       "timestamp                                              \n",
       "2023-04-10 04:00:00+00:00  13488647  85.879664    XLE  \n",
       "2023-04-11 04:00:00+00:00  12787580  86.445296    XLE  \n",
       "2023-04-12 04:00:00+00:00  16667178  86.753472    XLE  \n",
       "2023-04-13 04:00:00+00:00  15692262  86.870389    XLE  \n",
       "2023-04-14 04:00:00+00:00  11775619  87.139064    XLE  \n",
       "...                             ...        ...    ...  \n",
       "2024-04-02 04:00:00+00:00  19335599  95.926710    XLE  \n",
       "2024-04-03 04:00:00+00:00  14574431  96.967659    XLE  \n",
       "2024-04-04 04:00:00+00:00  18470645  97.180223    XLE  \n",
       "2024-04-05 04:00:00+00:00  15597269  97.850093    XLE  \n",
       "2024-04-08 04:00:00+00:00  17017279  97.779995    XLE  \n",
       "\n",
       "[251 rows x 8 columns]"
      ]
     },
     "execution_count": 7,
     "metadata": {},
     "output_type": "execute_result"
    }
   ],
   "source": [
    "# Set the tickers\n",
    "tickers = ['XLE']\n",
    "\n",
    "# Set timeframe to \"1Day\" for Alpaca API\n",
    "timeframe = \"1Day\"\n",
    "\n",
    "# Get current closing prices for SPY and AGG\n",
    "stock_price = alpaca.get_bars(\n",
    "    tickers,\n",
    "    timeframe,\n",
    "    start = start_date,\n",
    "    end = end_date\n",
    ").df\n",
    "stock_price"
   ]
  },
  {
   "cell_type": "code",
   "execution_count": null,
   "id": "9aad3412-3624-4c6c-ae71-c82297693ce2",
   "metadata": {
    "tags": []
   },
   "outputs": [],
   "source": []
  },
  {
   "cell_type": "code",
   "execution_count": null,
   "id": "711ddc3c-2666-4147-9ad1-84d9e8c41979",
   "metadata": {},
   "outputs": [],
   "source": []
  }
 ],
 "metadata": {
  "kernelspec": {
   "display_name": "Python 3 (ipykernel)",
   "language": "python",
   "name": "python3"
  },
  "language_info": {
   "codemirror_mode": {
    "name": "ipython",
    "version": 3
   },
   "file_extension": ".py",
   "mimetype": "text/x-python",
   "name": "python",
   "nbconvert_exporter": "python",
   "pygments_lexer": "ipython3",
   "version": "3.11.5"
  }
 },
 "nbformat": 4,
 "nbformat_minor": 5
}
